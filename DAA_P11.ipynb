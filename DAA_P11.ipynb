{
  "nbformat": 4,
  "nbformat_minor": 0,
  "metadata": {
    "colab": {
      "provenance": [],
      "collapsed_sections": [],
      "authorship_tag": "ABX9TyMWsD8cbsQaGBFta/tkh0AI",
      "include_colab_link": true
    },
    "kernelspec": {
      "name": "python3",
      "display_name": "Python 3"
    },
    "language_info": {
      "name": "python"
    }
  },
  "cells": [
    {
      "cell_type": "markdown",
      "metadata": {
        "id": "view-in-github",
        "colab_type": "text"
      },
      "source": [
        "<a href=\"https://colab.research.google.com/github/ryanchandra1/DAA/blob/main/DAA_P11.ipynb\" target=\"_parent\"><img src=\"https://colab.research.google.com/assets/colab-badge.svg\" alt=\"Open In Colab\"/></a>"
      ]
    },
    {
      "cell_type": "code",
      "execution_count": null,
      "metadata": {
        "id": "fC4xTvDS3g6Z"
      },
      "outputs": [],
      "source": [
        "# a----b\n",
        "# |    |\n",
        "# |    |\n",
        "# c----d----e"
      ]
    },
    {
      "cell_type": "code",
      "source": [
        "# Create the dictionary with graph element\n",
        "graph = {\"a\" : [\"b\",\"c\"],\n",
        "         \"b\" : [\"a\",\"d\"],\n",
        "         \"c\" : [\"a\",\"d\"],\n",
        "         \"d\" : [\"e\"],\n",
        "         \"e\" : [\"d\"]}"
      ],
      "metadata": {
        "id": "c1qkGYrI8ias"
      },
      "execution_count": null,
      "outputs": []
    },
    {
      "cell_type": "code",
      "source": [
        "# print the graph\n",
        "print(graph)"
      ],
      "metadata": {
        "colab": {
          "base_uri": "https://localhost:8080/"
        },
        "id": "ztdeZJ5E9Kg7",
        "outputId": "50d155ce-2604-48ab-f189-953fb7eec0cb"
      },
      "execution_count": null,
      "outputs": [
        {
          "output_type": "stream",
          "name": "stdout",
          "text": [
            "{'a': ['b', 'c'], 'b': ['a', 'd'], 'c': ['a', 'd'], 'd': ['e'], 'e': ['d']}\n"
          ]
        }
      ]
    },
    {
      "cell_type": "code",
      "source": [
        "latihan = {\"T\" : [\"U\",\"W\"],\n",
        "           \"U\" : [\"T\",\"V\"],\n",
        "           \"V\" : [\"U\",\"X\"],\n",
        "           \"W\" : [\"T\",\"X\",\"Z\"],\n",
        "           \"X\" : [\"W\",\"V\",\"S\"],\n",
        "           \"Z\" : [\"W\"],\n",
        "           \"S\" : [\"X\"]}"
      ],
      "metadata": {
        "id": "7m3ZhSY5-Y26"
      },
      "execution_count": null,
      "outputs": []
    },
    {
      "cell_type": "code",
      "source": [
        "# print the graph\n",
        "print(latihan)"
      ],
      "metadata": {
        "colab": {
          "base_uri": "https://localhost:8080/"
        },
        "id": "NUUIy2Fy_bmw",
        "outputId": "70e9b59a-383b-48b5-98a3-8b68d960f849"
      },
      "execution_count": null,
      "outputs": [
        {
          "output_type": "stream",
          "name": "stdout",
          "text": [
            "{'T': ['U', 'W'], 'U': ['T', 'V'], 'V': ['U', 'X'], 'W': ['T', 'X', 'Z'], 'X': ['W', 'V', 'S'], 'Z': ['W'], 'S': ['X']}\n"
          ]
        }
      ]
    },
    {
      "cell_type": "code",
      "source": [
        "latihan2 = {\"R\" : [\"O\",\"L\"],\n",
        "            \"O\" : [\"R\",\"M\",\"P\"],\n",
        "            \"M\" : [\"O\",\"N\"],\n",
        "            \"L\" : [\"R\",\"P\"],\n",
        "            \"P\" : [\"O\",\"L\",\"N\"],\n",
        "            \"N\" : [\"M\",\"P\"],}"
      ],
      "metadata": {
        "id": "EZuc0661A_pb"
      },
      "execution_count": null,
      "outputs": []
    },
    {
      "cell_type": "code",
      "source": [
        "print(latihan2)"
      ],
      "metadata": {
        "colab": {
          "base_uri": "https://localhost:8080/"
        },
        "id": "ahtBZ1evBnbP",
        "outputId": "4be3b651-682e-4a55-f33e-b259fca7cc01"
      },
      "execution_count": null,
      "outputs": [
        {
          "output_type": "stream",
          "name": "stdout",
          "text": [
            "{'R': ['O', 'L'], 'O': ['R', 'M', 'P'], 'M': ['O', 'N'], 'L': ['R', 'P'], 'P': ['O', 'L', 'N'], 'N': ['M', 'P']}\n"
          ]
        }
      ]
    },
    {
      "cell_type": "code",
      "source": [
        "class graph : \n",
        "  def __init__(self,gdict=None):\n",
        "    if gdict is None :\n",
        "      gdict = []\n",
        "    self.gdict = gdict\n",
        "\n",
        "# Get the keys of the dictionary\n",
        "\n",
        "  def getVertices(self):\n",
        "      return list(self.gdict.keys())\n",
        "\n",
        "# Create the dictionary with graph elements\n",
        "graph_elements ={\"T\" : [\"U\",\"W\"],\n",
        "           \"U\" : [\"T\",\"V\"],\n",
        "           \"V\" : [\"U\",\"X\"],}\n",
        "\n",
        "g = graph(graph_elements)\n",
        "\n",
        "print(g.getVertices())"
      ],
      "metadata": {
        "colab": {
          "base_uri": "https://localhost:8080/"
        },
        "id": "oN_rcGcWEG3C",
        "outputId": "a0c47b03-fbc8-4ec6-e144-ab55b5a95c6c"
      },
      "execution_count": null,
      "outputs": [
        {
          "output_type": "stream",
          "name": "stdout",
          "text": [
            "['T', 'U', 'V']\n"
          ]
        }
      ]
    },
    {
      "cell_type": "code",
      "source": [
        "class graph : \n",
        "  def __init__(self,gdict=None):\n",
        "      if gdict is None :\n",
        "          gdict = {}\n",
        "      self.gdict = gdict\n",
        "  \n",
        "  def edges(self):\n",
        "      return self.findedges()\n",
        "\n",
        "# Find the distinct list of edges\n",
        "  def findedges(self):\n",
        "      edgename = []\n",
        "      for vrtx in self.gdict:\n",
        "          for nxtvrtx in self.gdict[vrtx]:\n",
        "            if (nxtvrtx, vrtx) not in edgename:\n",
        "              edgename.append({vrtx, nxtvrtx})\n",
        "      return edgename\n",
        "\n",
        "# Create the dictionary with graph elements\n",
        "graph_elements = {\"a\" : [\"b\",\"c\"],\n",
        "              \"b\" : [\"a\",\"d\"],\n",
        "              \"c\" : [\"a\",\"d\"],\n",
        "              \"d\" : [\"e\"],\n",
        "              \"e\" : [\"d\"]\n",
        "              }\n",
        "\n",
        "g = graph(graph_elements)\n",
        "\n",
        "print(g.edges())"
      ],
      "metadata": {
        "colab": {
          "base_uri": "https://localhost:8080/"
        },
        "id": "ohvmWvwaJE3k",
        "outputId": "93a6a2e5-bcc9-4be9-b682-c486db57c7ef"
      },
      "execution_count": null,
      "outputs": [
        {
          "output_type": "stream",
          "name": "stdout",
          "text": [
            "[{'b', 'a'}, {'a', 'c'}, {'b', 'a'}, {'d', 'b'}, {'a', 'c'}, {'d', 'c'}, {'d', 'e'}, {'d', 'e'}]\n"
          ]
        }
      ]
    },
    {
      "cell_type": "code",
      "source": [
        "class graph : \n",
        "  def __init__(self,gdict=None):\n",
        "      if gdict is None :\n",
        "          gdict = {}\n",
        "      self.gdict = gdict\n",
        "\n",
        "  def getVertices(self):\n",
        "      return list(self.gdict.keys())\n",
        "\n",
        "# add vertex as the key\n",
        "  def addVertex(self, vrtx):\n",
        "      if vrtx not in self.gdict:\n",
        "          self.gdict[vrtx] = []\n",
        "\n",
        "# Create the dictionary with graph elements\n",
        "graph_elements ={\"a\" : [\"b\",\"c\"],\n",
        "              \"b\" : [\"a\",\"d\"],\n",
        "              \"c\" : [\"a\",\"d\"],\n",
        "              \"d\" : [\"e\"],\n",
        "              \"e\" : [\"d\"]\n",
        "              }\n",
        "\n",
        "g = graph(graph_elements)\n",
        "\n",
        "g.addVertex(\"f\")\n",
        "\n",
        "print(g.getVertices())\n",
        "\n"
      ],
      "metadata": {
        "colab": {
          "base_uri": "https://localhost:8080/"
        },
        "id": "-Etip75nMGuI",
        "outputId": "62eab124-42da-4791-9a68-11f04168bcef"
      },
      "execution_count": null,
      "outputs": [
        {
          "output_type": "stream",
          "name": "stdout",
          "text": [
            "['a', 'b', 'c', 'd', 'e', 'f']\n"
          ]
        }
      ]
    },
    {
      "cell_type": "code",
      "source": [
        "class graph:\n",
        "\n",
        "   def __init__(self,gdict=None):\n",
        "       if gdict is None:\n",
        "           gdict = {}\n",
        "       self.gdict = gdict\n",
        "\n",
        "   def edges(self):\n",
        "       return self.findedges()\n",
        "#Add the new edge\n",
        "\n",
        "   def AddEdge(self, edge):\n",
        "       edge = set(edge)\n",
        "       (vrtx1, vrtx2) = tuple(edge)\n",
        "       if vrtx1 in self.gdict:\n",
        "           self.gdict[vrtx1].append(vrtx2)\n",
        "       else:\n",
        "           self.gdict[vrtx1] = [vrtx2]\n",
        "\n",
        "# List the edge names\n",
        "   def findedges(self):\n",
        "        edgename = []\n",
        "        for vrtx in self.gdict:\n",
        "            for nxtvrtx in self.gdict[vrtx]:\n",
        "                if {nxtvrtx, vrtx} not in edgename:\n",
        "                   edgename.append({vrtx, nxtvrtx})\n",
        "        return edgename"
      ],
      "metadata": {
        "id": "ERibuiktO0ex"
      },
      "execution_count": 9,
      "outputs": []
    },
    {
      "cell_type": "code",
      "source": [
        "# Create the dictionary with graph elements\n",
        "graph_elements = {\"a\" : [\"b\",\"c\"],\n",
        "              \"b\" : [\"a\",\"d\"],\n",
        "              \"c\" : [\"a\",\"d\"],\n",
        "              \"d\" : [\"e\"],\n",
        "              \"e\" : [\"d\"]\n",
        "              }\n",
        "\n",
        "g = graph(graph_elements)\n",
        "g.AddEdge({'a','e'})\n",
        "g.AddEdge({'a','c'})\n",
        "print(g.edges())"
      ],
      "metadata": {
        "colab": {
          "base_uri": "https://localhost:8080/"
        },
        "id": "Un33ib7gQWyt",
        "outputId": "af420e21-d4e0-4503-f784-19e66c5fcd73"
      },
      "execution_count": 10,
      "outputs": [
        {
          "output_type": "stream",
          "name": "stdout",
          "text": [
            "[{'b', 'a'}, {'a', 'c'}, {'a', 'e'}, {'d', 'b'}, {'d', 'c'}, {'d', 'e'}]\n"
          ]
        }
      ]
    },
    {
      "cell_type": "code",
      "source": [
        "#Create the dictionary with graphy elements\n",
        "graph_elements = {\"T\" : [\"U\", \"W\"],\n",
        "         \"U\" : [\"T\", \"V\"],\n",
        "         \"V\" : [\"U\", \"X\"],\n",
        "         \"X\" : [\"V\", \"W\"],\n",
        "         \"W\" : [\"T\", \"Z\"],\n",
        "         \"W\" : [\"X\", \"Z\"],\n",
        "         \"W\" : [\"Z\"],\n",
        "         \"X\" : [\"W\", \"S\"],\n",
        "         \"X\" : [\"S\"],\n",
        "         \"S\" : [\"X\"]\n",
        "        }\n",
        "\n",
        "g = graph(graph_elements)\n",
        "g.AddEdge({'a','e'})\n",
        "g.AddEdge({'a','c'})\n",
        "print(g.edges())"
      ],
      "metadata": {
        "colab": {
          "base_uri": "https://localhost:8080/"
        },
        "id": "3QtQgSuceas-",
        "outputId": "36456a91-c287-40da-cee6-1e2af2e31b39"
      },
      "execution_count": 12,
      "outputs": [
        {
          "output_type": "stream",
          "name": "stdout",
          "text": [
            "[{'T', 'U'}, {'W', 'T'}, {'U', 'V'}, {'V', 'X'}, {'X', 'S'}, {'W', 'Z'}, {'a', 'e'}, {'a', 'c'}]\n"
          ]
        }
      ]
    },
    {
      "cell_type": "code",
      "source": [
        "#Create the dictionary with graphy elements\n",
        "graph_elements = {\"R\" : [\"O\", \"L\"],\n",
        "         \"O\" : [\"R\", \"P\"],\n",
        "         \"M\" : [\"O\", \"N\"],\n",
        "         \"L\" : [\"R\", \"P\"],\n",
        "         \"P\" : [\"O\", \"N\"],\n",
        "         \"N\" : [\"P\", \"M\"],\n",
        "         }\n",
        "\n",
        "\n",
        "\n",
        "g = graph(graph_elements)\n",
        "g.AddEdge({'a','e'})\n",
        "g.AddEdge({'a','c'})\n",
        "print(g.edges())"
      ],
      "metadata": {
        "colab": {
          "base_uri": "https://localhost:8080/"
        },
        "id": "tAW7g3x9e5r3",
        "outputId": "27b514d3-f5e1-4684-8b04-9dc34c8646f9"
      },
      "execution_count": 13,
      "outputs": [
        {
          "output_type": "stream",
          "name": "stdout",
          "text": [
            "[{'O', 'R'}, {'L', 'R'}, {'O', 'P'}, {'O', 'M'}, {'N', 'M'}, {'L', 'P'}, {'N', 'P'}, {'a', 'e'}, {'a', 'c'}]\n"
          ]
        }
      ]
    }
  ]
}