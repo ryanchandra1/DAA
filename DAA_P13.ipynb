{
  "nbformat": 4,
  "nbformat_minor": 0,
  "metadata": {
    "colab": {
      "provenance": [],
      "authorship_tag": "ABX9TyMnseBGh2IcnFP731YnKLRA",
      "include_colab_link": true
    },
    "kernelspec": {
      "name": "python3",
      "display_name": "Python 3"
    },
    "language_info": {
      "name": "python"
    }
  },
  "cells": [
    {
      "cell_type": "markdown",
      "metadata": {
        "id": "view-in-github",
        "colab_type": "text"
      },
      "source": [
        "<a href=\"https://colab.research.google.com/github/ryanchandra1/DAA/blob/main/DAA_P13.ipynb\" target=\"_parent\"><img src=\"https://colab.research.google.com/assets/colab-badge.svg\" alt=\"Open In Colab\"/></a>"
      ]
    },
    {
      "cell_type": "code",
      "execution_count": 25,
      "metadata": {
        "id": "Abhq2fsf_d7g"
      },
      "outputs": [],
      "source": [
        "def bfs(graph,start):\n",
        "  visited = []\n",
        "  queue = [start]\n",
        "\n",
        "  while queue:\n",
        "      node = queue.pop(0)\n",
        "      if node not in visited:\n",
        "          visited.append(node)\n",
        "          neighbours  = graph[node]\n",
        "          for neighbour in neighbours:\n",
        "              queue.append(neighbour)\n",
        "  return visited"
      ]
    },
    {
      "cell_type": "code",
      "source": [
        "graph = { 'Amin' : {'Wasim','Nick','Mike'},\n",
        "          'Wasim' : {'Imran','Amin'},\n",
        "          'Imran' : {'Wasim','Faras'},\n",
        "          'Faras' : {'Imran'},\n",
        "          'Mike' : {'Amin'},\n",
        "          'Nick' : ['Amin']}"
      ],
      "metadata": {
        "id": "QaE761RGAZqv"
      },
      "execution_count": 26,
      "outputs": []
    },
    {
      "cell_type": "code",
      "source": [
        "bfs(graph,'Amin')"
      ],
      "metadata": {
        "colab": {
          "base_uri": "https://localhost:8080/"
        },
        "id": "wE0retw3BM-G",
        "outputId": "c06dc843-1a51-4d91-9d32-08e95d319caa"
      },
      "execution_count": 27,
      "outputs": [
        {
          "output_type": "execute_result",
          "data": {
            "text/plain": [
              "['Amin', 'Nick', 'Mike', 'Wasim', 'Imran', 'Faras']"
            ]
          },
          "metadata": {},
          "execution_count": 27
        }
      ]
    },
    {
      "cell_type": "code",
      "source": [
        "bfs(graph, 'Wasim')"
      ],
      "metadata": {
        "colab": {
          "base_uri": "https://localhost:8080/"
        },
        "id": "xps4sF2OFe_c",
        "outputId": "978aa88e-c657-4076-ea62-538a3c06ea5b"
      },
      "execution_count": 5,
      "outputs": [
        {
          "output_type": "execute_result",
          "data": {
            "text/plain": [
              "['Wasim', 'Amin', 'Imran', 'Nick', 'Mike', 'Faras']"
            ]
          },
          "metadata": {},
          "execution_count": 5
        }
      ]
    },
    {
      "cell_type": "code",
      "source": [
        "bfs(graph, 'Faras')"
      ],
      "metadata": {
        "colab": {
          "base_uri": "https://localhost:8080/"
        },
        "id": "c4Bcg44-Il97",
        "outputId": "2b6651f6-3a15-49d8-f714-76667c8d5ed9"
      },
      "execution_count": 28,
      "outputs": [
        {
          "output_type": "execute_result",
          "data": {
            "text/plain": [
              "['Faras', 'Imran', 'Wasim', 'Amin', 'Nick', 'Mike']"
            ]
          },
          "metadata": {},
          "execution_count": 28
        }
      ]
    },
    {
      "cell_type": "code",
      "source": [
        "graph={ 'Rektor' : {'Warek 1', 'Warek 2'},\n",
        "        'Warek 1' : {'Rektor'},\n",
        "        'Warek 2' : {'Kaprodi 1', 'Kaprodi 2', 'Kaprodi 3'},\n",
        "        'Kaprodi 1' : {'Dosen A', 'Dosen B', 'Dosen C'},\n",
        "        'Kaprodi 2' : {'Dosen D', 'Dosen E'},\n",
        "        'Kaprodi 3' : {'Dosen F', 'Dosen G'},\n",
        "        'Dosen A' : {'Kaprodi 1', 'Dosen B'},\n",
        "        'Dosen B' : {'Dosen A', 'Dosen C'},\n",
        "        'Dosen C' : {'Dosen B'},\n",
        "        'Dosen D' : {'Kaprodi 2', 'Dosen E'},\n",
        "        'Dosen E' : {'Dosen D'},\n",
        "        'Dosen F' : {'Kaprodi 3', 'Dosen F'},\n",
        "        'Dosen G' : {'Dosen F'}}"
      ],
      "metadata": {
        "id": "olCWviTvMNzC"
      },
      "execution_count": 29,
      "outputs": []
    },
    {
      "cell_type": "code",
      "source": [
        "bfs(graph, 'Rektor')"
      ],
      "metadata": {
        "colab": {
          "base_uri": "https://localhost:8080/"
        },
        "id": "RTZWGaTVM78n",
        "outputId": "e0f217f0-54a2-4fcb-e90f-f19782aaea87"
      },
      "execution_count": 30,
      "outputs": [
        {
          "output_type": "execute_result",
          "data": {
            "text/plain": [
              "['Rektor',\n",
              " 'Warek 1',\n",
              " 'Warek 2',\n",
              " 'Kaprodi 3',\n",
              " 'Kaprodi 1',\n",
              " 'Kaprodi 2',\n",
              " 'Dosen F',\n",
              " 'Dosen G',\n",
              " 'Dosen B',\n",
              " 'Dosen C',\n",
              " 'Dosen A',\n",
              " 'Dosen E',\n",
              " 'Dosen D']"
            ]
          },
          "metadata": {},
          "execution_count": 30
        }
      ]
    },
    {
      "cell_type": "code",
      "source": [
        "def dfs(graph, start, visited=None):\n",
        "    if visited is None:\n",
        "        visited = set()\n",
        "    visited.add(start)\n",
        "    print(start)\n",
        "    for next in graph[start] - visited:\n",
        "         dfs(graph, next, visited)\n",
        "    return visited"
      ],
      "metadata": {
        "id": "KaTCpdUBR2VS"
      },
      "execution_count": 11,
      "outputs": []
    },
    {
      "cell_type": "code",
      "source": [
        "graph = { 'Amin' : {'Wasim','Nick','Mike'},\n",
        "          'Wasim' : {'Imran','Amin'},\n",
        "          'Imran' : {'Wasim','Faras'},\n",
        "          'Faras' : {'Imran'},\n",
        "          'Mike' : {'Amin'},\n",
        "          'Nick' : {'Amin'}}"
      ],
      "metadata": {
        "id": "9T97wdGgSLw-"
      },
      "execution_count": 12,
      "outputs": []
    },
    {
      "cell_type": "code",
      "source": [
        "dfs(graph, 'Amin')"
      ],
      "metadata": {
        "colab": {
          "base_uri": "https://localhost:8080/"
        },
        "id": "JiR7mHyvUWKX",
        "outputId": "41c1dff7-5d60-4977-f4f0-96b53086434d"
      },
      "execution_count": 14,
      "outputs": [
        {
          "output_type": "stream",
          "name": "stdout",
          "text": [
            "Amin\n",
            "Mike\n",
            "Nick\n",
            "Wasim\n",
            "Imran\n",
            "Faras\n"
          ]
        },
        {
          "output_type": "execute_result",
          "data": {
            "text/plain": [
              "{'Amin', 'Faras', 'Imran', 'Mike', 'Nick', 'Wasim'}"
            ]
          },
          "metadata": {},
          "execution_count": 14
        }
      ]
    },
    {
      "cell_type": "code",
      "source": [
        "dfs(graph, 'Wasim')"
      ],
      "metadata": {
        "colab": {
          "base_uri": "https://localhost:8080/"
        },
        "id": "c3j6oG-taL7G",
        "outputId": "9a2be94e-e56f-47ea-81e6-ad53b0c28bb5"
      },
      "execution_count": 15,
      "outputs": [
        {
          "output_type": "stream",
          "name": "stdout",
          "text": [
            "Wasim\n",
            "Imran\n",
            "Faras\n",
            "Amin\n",
            "Mike\n",
            "Nick\n"
          ]
        },
        {
          "output_type": "execute_result",
          "data": {
            "text/plain": [
              "{'Amin', 'Faras', 'Imran', 'Mike', 'Nick', 'Wasim'}"
            ]
          },
          "metadata": {},
          "execution_count": 15
        }
      ]
    },
    {
      "cell_type": "code",
      "source": [
        "dfs(graph, 'Faras')"
      ],
      "metadata": {
        "colab": {
          "base_uri": "https://localhost:8080/"
        },
        "id": "EXyUUYGzdgby",
        "outputId": "d73f9570-0739-4197-fa08-6108e25692ee"
      },
      "execution_count": 16,
      "outputs": [
        {
          "output_type": "stream",
          "name": "stdout",
          "text": [
            "Faras\n",
            "Imran\n",
            "Wasim\n",
            "Amin\n",
            "Mike\n",
            "Nick\n"
          ]
        },
        {
          "output_type": "execute_result",
          "data": {
            "text/plain": [
              "{'Amin', 'Faras', 'Imran', 'Mike', 'Nick', 'Wasim'}"
            ]
          },
          "metadata": {},
          "execution_count": 16
        }
      ]
    },
    {
      "cell_type": "code",
      "source": [
        "dfs(graph, 'Nick')"
      ],
      "metadata": {
        "colab": {
          "base_uri": "https://localhost:8080/"
        },
        "id": "9uFLf5Uddikl",
        "outputId": "8740f161-2e84-45cb-b90a-873034f6852e"
      },
      "execution_count": 17,
      "outputs": [
        {
          "output_type": "stream",
          "name": "stdout",
          "text": [
            "Nick\n",
            "Amin\n",
            "Mike\n",
            "Wasim\n",
            "Imran\n",
            "Faras\n"
          ]
        },
        {
          "output_type": "execute_result",
          "data": {
            "text/plain": [
              "{'Amin', 'Faras', 'Imran', 'Mike', 'Nick', 'Wasim'}"
            ]
          },
          "metadata": {},
          "execution_count": 17
        }
      ]
    },
    {
      "cell_type": "code",
      "source": [
        "graph={ 'Rektor' : {'Warek 1', 'Warek 2'},\n",
        "        'Warek 1' : {'Rektor'},\n",
        "        'Warek 2' : {'Kaprodi 1', 'Kaprodi 2', 'Kaprodi 3'},\n",
        "        'Kaprodi 1' : {'Dosen A', 'Dosen B', 'Dosen C'},\n",
        "        'Kaprodi 2' : {'Dosen D', 'Dosen E'},\n",
        "        'Kaprodi 3' : {'Dosen F', 'Dosen G'},\n",
        "        'Dosen A' : {'Kaprodi 1', 'Dosen B'},\n",
        "        'Dosen B' : {'Dosen A', 'Dosen C'},\n",
        "        'Dosen C' : {'Dosen B'},\n",
        "        'Dosen D' : {'Kaprodi 2', 'Dosen E'},\n",
        "        'Dosen E' : {'Dosen D'},\n",
        "        'Dosen F' : {'Kaprodi 3', 'Dosen F'},\n",
        "        'Dosen G' : {'Dosen F'}}"
      ],
      "metadata": {
        "id": "HyDKeKJidkwD"
      },
      "execution_count": 18,
      "outputs": []
    },
    {
      "cell_type": "code",
      "source": [
        "dfs(graph, 'Rektor')"
      ],
      "metadata": {
        "id": "OY5ErD7ndpuU",
        "outputId": "b0d6a661-4b74-492a-e66d-1840553c1da5",
        "colab": {
          "base_uri": "https://localhost:8080/"
        }
      },
      "execution_count": 19,
      "outputs": [
        {
          "output_type": "stream",
          "name": "stdout",
          "text": [
            "Rektor\n",
            "Warek 2\n",
            "Kaprodi 2\n",
            "Dosen D\n",
            "Dosen E\n",
            "Dosen E\n",
            "Kaprodi 3\n",
            "Dosen F\n",
            "Dosen G\n",
            "Kaprodi 1\n",
            "Dosen C\n",
            "Dosen B\n",
            "Dosen A\n",
            "Dosen B\n",
            "Dosen A\n",
            "Warek 1\n"
          ]
        },
        {
          "output_type": "execute_result",
          "data": {
            "text/plain": [
              "{'Dosen A',\n",
              " 'Dosen B',\n",
              " 'Dosen C',\n",
              " 'Dosen D',\n",
              " 'Dosen E',\n",
              " 'Dosen F',\n",
              " 'Dosen G',\n",
              " 'Kaprodi 1',\n",
              " 'Kaprodi 2',\n",
              " 'Kaprodi 3',\n",
              " 'Rektor',\n",
              " 'Warek 1',\n",
              " 'Warek 2'}"
            ]
          },
          "metadata": {},
          "execution_count": 19
        }
      ]
    }
  ]
}