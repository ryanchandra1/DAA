{
  "nbformat": 4,
  "nbformat_minor": 0,
  "metadata": {
    "colab": {
      "provenance": [],
      "authorship_tag": "ABX9TyOaFkyZ9dcx3SMuR41zijvQ",
      "include_colab_link": true
    },
    "kernelspec": {
      "name": "python3",
      "display_name": "Python 3"
    },
    "language_info": {
      "name": "python"
    }
  },
  "cells": [
    {
      "cell_type": "markdown",
      "metadata": {
        "id": "view-in-github",
        "colab_type": "text"
      },
      "source": [
        "<a href=\"https://colab.research.google.com/github/ryanchandra1/DAA/blob/main/DAA_P10.ipynb\" target=\"_parent\"><img src=\"https://colab.research.google.com/assets/colab-badge.svg\" alt=\"Open In Colab\"/></a>"
      ]
    },
    {
      "cell_type": "code",
      "execution_count": 25,
      "metadata": {
        "colab": {
          "base_uri": "https://localhost:8080/"
        },
        "id": "EbNEyKYAQkxI",
        "outputId": "b3606d84-e0f3-4e3a-91ab-12650174f58f"
      },
      "outputs": [
        {
          "output_type": "stream",
          "name": "stdout",
          "text": [
            "Looking in indexes: https://pypi.org/simple, https://us-python.pkg.dev/colab-wheels/public/simple/\n",
            "Requirement already satisfied: pulp==2.3.1 in /usr/local/lib/python3.7/dist-packages (2.3.1)\n",
            "Requirement already satisfied: amply>=0.1.2 in /usr/local/lib/python3.7/dist-packages (from pulp==2.3.1) (0.1.5)\n",
            "Requirement already satisfied: docutils>=0.3 in /usr/local/lib/python3.7/dist-packages (from amply>=0.1.2->pulp==2.3.1) (0.17.1)\n",
            "Requirement already satisfied: pyparsing in /usr/local/lib/python3.7/dist-packages (from amply>=0.1.2->pulp==2.3.1) (3.0.9)\n"
          ]
        }
      ],
      "source": [
        "pip install pulp==2.3.1"
      ]
    },
    {
      "cell_type": "code",
      "source": [
        "import pulp \n",
        "\n",
        "#Instantiate our problem class \n",
        "model = pulp.LpProblem(\"ProfitMaximisingProblem\", pulp.LpMaximize)\n",
        "\n",
        "A= pulp.LpVariable('A', lowBound=0, cat='Integer')\n",
        "B= pulp.LpVariable('B', lowBound=0, cat='Integer')\n",
        "\n",
        "#Objective function \n",
        "model += 5000*A + 2500*B, \"Profit\"\n",
        "#Constraints \n",
        "model += 3*A + 2*B<=20\n",
        "model += 4*A + 3*B<=30\n",
        "model += 4*A + 3*B<=44\n",
        "\n",
        "#Solve our problem \n",
        "model.solve()\n",
        "pulp.LpStatus[model.status]\n",
        "\n",
        "print (A.varValue)\n",
        "print (B.varValue)\n",
        "\n",
        "print (pulp.value(model.objective))"
      ],
      "metadata": {
        "colab": {
          "base_uri": "https://localhost:8080/"
        },
        "id": "_r1y2VMCQ2Xh",
        "outputId": "d14abff1-403c-4aa6-ce82-283e4b74f49f"
      },
      "execution_count": 13,
      "outputs": [
        {
          "output_type": "stream",
          "name": "stdout",
          "text": [
            "6.0\n",
            "1.0\n",
            "32500.0\n"
          ]
        }
      ]
    },
    {
      "cell_type": "code",
      "source": [
        "x = pulp.LpVariable ('x', lowBound= 0, cat='Integer')\n",
        "y = pulp.LpVariable ('y', lowBound= 0, cat='Integer')\n",
        "#Objective function \n",
        "model += 5000 * x + 2500 * y, \"Profit\"\n",
        "\n",
        "#Constraints\n",
        "model += 4*x + 3*y <= 34\n",
        "model += 5*x + 1*y <= 37\n",
        "\n",
        "model.solve()\n",
        "pulp.LpStatus[model.status]\n",
        "\n",
        "print (x.varValue)\n",
        "print (y.varValue)\n",
        "\n",
        "print (pulp.value(model.objective))"
      ],
      "metadata": {
        "colab": {
          "base_uri": "https://localhost:8080/"
        },
        "id": "GKBXEh__Q8tU",
        "outputId": "de47cb23-aa3f-43d0-ea97-bddf67fb537a"
      },
      "execution_count": 3,
      "outputs": [
        {
          "output_type": "stream",
          "name": "stdout",
          "text": [
            "7.0\n",
            "2.0\n",
            "40000.0\n"
          ]
        },
        {
          "output_type": "stream",
          "name": "stderr",
          "text": [
            "/usr/local/lib/python3.7/dist-packages/pulp/pulp.py:1530: UserWarning: Overwriting previously set objective.\n",
            "  warnings.warn(\"Overwriting previously set objective.\")\n"
          ]
        }
      ]
    },
    {
      "cell_type": "code",
      "source": [
        "p = pulp.LpVariable ('p', lowBound= 0, cat='Integer')\n",
        "b = pulp.LpVariable ('b', lowBound= 0, cat='Integer')\n",
        "\n",
        "#Constraints\n",
        "model += 3*p + 4*b <= 11000\n",
        "model += 1*p + 7*b <= 15000\n",
        "model += 2 *p + 6 * b, 'Hasil'\n",
        "\n",
        "model.solve()\n",
        "pulp.LpStatus[model.status]\n",
        "\n",
        "print (p.varValue)\n",
        "print (b.varValue)\n",
        "\n",
        "print (pulp.value(model.objective))"
      ],
      "metadata": {
        "colab": {
          "base_uri": "https://localhost:8080/"
        },
        "id": "HKfbyPImRA2s",
        "outputId": "2125c3f0-8123-4173-aab4-27439c3eda83"
      },
      "execution_count": 14,
      "outputs": [
        {
          "output_type": "stream",
          "name": "stdout",
          "text": [
            "1000.0\n",
            "2000.0\n",
            "14000.0\n"
          ]
        }
      ]
    },
    {
      "cell_type": "code",
      "source": [
        "x = pulp.LpVariable ('x', lowBound= 0, cat='Integer')\n",
        "y = pulp.LpVariable ('y', lowBound= 0, cat='Integer')\n",
        "#Objective function \n",
        "model += 2* x + 2 * y, \"Keliling\"\n",
        "\n",
        "#Constraints\n",
        "model += 2 * x + 2 * y == 44\n",
        "model += 2 * x + 2 * (x - 6) == 44\n",
        "\n",
        "model.solve()\n",
        "pulp.LpStatus[model.status]\n",
        "\n",
        "print (x.varValue)\n",
        "print (y.varValue)\n",
        "\n",
        "print (pulp.value(model.objective))"
      ],
      "metadata": {
        "colab": {
          "base_uri": "https://localhost:8080/"
        },
        "id": "LFqnUM-MSzsA",
        "outputId": "3d1f79ad-ffd6-4d99-9e88-a7a9db5989ea"
      },
      "execution_count": 16,
      "outputs": [
        {
          "output_type": "stream",
          "name": "stdout",
          "text": [
            "14.0\n",
            "8.0\n",
            "44.0\n"
          ]
        },
        {
          "output_type": "stream",
          "name": "stderr",
          "text": [
            "/usr/local/lib/python3.7/dist-packages/pulp/pulp.py:1530: UserWarning: Overwriting previously set objective.\n",
            "  warnings.warn(\"Overwriting previously set objective.\")\n"
          ]
        }
      ]
    },
    {
      "cell_type": "code",
      "source": [
        "import numpy as np\n",
        "from scipy.optimize import linprog\n",
        "A = np.array([[1,0],[2,3],[1,1],[-1,0],[0,-1]])\n",
        "b = np.array([16,19,8,0,0])\n",
        "c = np.array([-5,-7])\n",
        "\n",
        "res = linprog(c,A_ub=A, b_ub = b)\n",
        "print('Optimal value:', round(res.fun*-1, ndigits=2),\n",
        "      '\\nx values: ', res.x,\n",
        "      '\\nNumber of iterations performed: ', res.nit,\n",
        "      '\\nStatus: ', res.message)"
      ],
      "metadata": {
        "colab": {
          "base_uri": "https://localhost:8080/"
        },
        "id": "EBIvZEnSRzLn",
        "outputId": "075664f7-b331-4192-c86a-d29979c24c59"
      },
      "execution_count": 22,
      "outputs": [
        {
          "output_type": "stream",
          "name": "stdout",
          "text": [
            "Optimal value: 46.0 \n",
            "x values:  [5. 3.] \n",
            "Number of iterations performed:  5 \n",
            "Status:  Optimization terminated successfully.\n"
          ]
        }
      ]
    },
    {
      "cell_type": "code",
      "source": [
        "import numpy as np\n",
        "from scipy.optimize import linprog\n",
        "A = np.array([[4,12],[2,1]])\n",
        "b = np.array([28,21])\n",
        "c = np.array([-1,-5])\n",
        "\n",
        "res = linprog(c,A_ub=A, b_ub = b)\n",
        "print('Optimal value:', round(res.fun*-1, ndigits=2),\n",
        "      '\\nx values: ', res.x,\n",
        "      '\\nNumber of iterations performed: ', res.nit,\n",
        "      '\\nStatus: ', res.message)"
      ],
      "metadata": {
        "colab": {
          "base_uri": "https://localhost:8080/"
        },
        "id": "o8-gXVo3UPvo",
        "outputId": "a6030a0c-d897-4993-faba-2b2d166e549b"
      },
      "execution_count": 23,
      "outputs": [
        {
          "output_type": "stream",
          "name": "stdout",
          "text": [
            "Optimal value: 11.67 \n",
            "x values:  [1.26448491e-11 2.33333333e+00] \n",
            "Number of iterations performed:  5 \n",
            "Status:  Optimization terminated successfully.\n"
          ]
        }
      ]
    },
    {
      "cell_type": "code",
      "source": [
        "A = np.array([[3, 4], [1, 1], [-1, 0], [0, -1]])\n",
        "b = np.array([55, 16, 0, 0])\n",
        "c = np.array([-1, -1])\n",
        "\n",
        "res = linprog(c, A_ub=A, b_ub=b)\n",
        "\n",
        "print('Optimal Valus:', round(res.fun*-1, ndigits=2),\n",
        "      '\\nx values:', res.x,\n",
        "      '\\nNumber of iterations performed:', res.nit,\n",
        "      '\\nStatus:', res.message)"
      ],
      "metadata": {
        "colab": {
          "base_uri": "https://localhost:8080/"
        },
        "id": "8mMNBYlqUiMV",
        "outputId": "ceefd6ce-e6a0-444f-d45c-8d7ecb169115"
      },
      "execution_count": 24,
      "outputs": [
        {
          "output_type": "stream",
          "name": "stdout",
          "text": [
            "Optimal Valus: 16.0 \n",
            "x values: [11.28137676  4.71862324] \n",
            "Number of iterations performed: 5 \n",
            "Status: Optimization terminated successfully.\n"
          ]
        }
      ]
    }
  ]
}