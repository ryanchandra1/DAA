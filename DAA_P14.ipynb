{
  "nbformat": 4,
  "nbformat_minor": 0,
  "metadata": {
    "colab": {
      "provenance": [],
      "authorship_tag": "ABX9TyNifnEOEbPQHcGZdG6TOGMY",
      "include_colab_link": true
    },
    "kernelspec": {
      "name": "python3",
      "display_name": "Python 3"
    },
    "language_info": {
      "name": "python"
    }
  },
  "cells": [
    {
      "cell_type": "markdown",
      "metadata": {
        "id": "view-in-github",
        "colab_type": "text"
      },
      "source": [
        "<a href=\"https://colab.research.google.com/github/ryanchandra1/DAA/blob/main/DAA_P14.ipynb\" target=\"_parent\"><img src=\"https://colab.research.google.com/assets/colab-badge.svg\" alt=\"Open In Colab\"/></a>"
      ]
    },
    {
      "cell_type": "code",
      "execution_count": 1,
      "metadata": {
        "id": "gFhSd95nii5R"
      },
      "outputs": [],
      "source": [
        "import networkx as nx\n",
        "import matplotlib.pyplot as plt"
      ]
    },
    {
      "cell_type": "code",
      "source": [
        "vertices = range(1, 10)\n",
        "edges = {(7, 2), (2, 3), (4, 5), (7, 3), (7, 5), (1, 6), (1, 7), (2, 8), (2, 9)}"
      ],
      "metadata": {
        "id": "XfAf3iuPijcF"
      },
      "execution_count": 2,
      "outputs": []
    },
    {
      "cell_type": "code",
      "source": [
        "G = nx.Graph()"
      ],
      "metadata": {
        "id": "TXDuR52DinQN"
      },
      "execution_count": 3,
      "outputs": []
    },
    {
      "cell_type": "code",
      "source": [
        "G.add_nodes_from(vertices)\n",
        "G.add_edges_from(edges)\n",
        "pos = nx.spring_layout(G)"
      ],
      "metadata": {
        "id": "bPLiaMz9iwwH"
      },
      "execution_count": 4,
      "outputs": []
    },
    {
      "cell_type": "code",
      "source": [
        "nx.draw_networkx_nodes(G, pos, \n",
        "                       nodelist={1, 4, 3, 8, 9},\n",
        "                       node_color='g',\n",
        "                       node_size=1300)"
      ],
      "metadata": {
        "colab": {
          "base_uri": "https://localhost:8080/",
          "height": 265
        },
        "id": "XgJj6HAqizZt",
        "outputId": "4d7cd7b9-b905-4e24-8d57-b88abe230d1d"
      },
      "execution_count": 5,
      "outputs": [
        {
          "output_type": "execute_result",
          "data": {
            "text/plain": [
              "<matplotlib.collections.PathCollection at 0x7f18b2be4d10>"
            ]
          },
          "metadata": {},
          "execution_count": 5
        },
        {
          "output_type": "display_data",
          "data": {
            "text/plain": [
              "<Figure size 432x288 with 1 Axes>"
            ],
            "image/png": "[encoded data removed]"
          },
          "metadata": {}
        }
      ]
    },
    {
      "cell_type": "code",
      "source": [
        "nx.draw_networkx_nodes(G, pos,\n",
        "                       nodelist={2, 5, 6, 7}, \n",
        "                       node_color='r',\n",
        "                       node_size=1300)"
      ],
      "metadata": {
        "colab": {
          "base_uri": "https://localhost:8080/",
          "height": 265
        },
        "id": "qbT9cVO4i1-G",
        "outputId": "385ec23e-5658-40da-9f89-287ded8ced86"
      },
      "execution_count": 6,
      "outputs": [
        {
          "output_type": "execute_result",
          "data": {
            "text/plain": [
              "<matplotlib.collections.PathCollection at 0x7f18b2b88950>"
            ]
          },
          "metadata": {},
          "execution_count": 6
        },
        {
          "output_type": "display_data",
          "data": {
            "text/plain": [
              "<Figure size 432x288 with 1 Axes>"
            ],
            "image/png": "[encoded data removed]"
          },
          "metadata": {}
        }
      ]
    },
    {
      "cell_type": "code",
      "source": [
        "nx.draw_networkx_edges(G, pos, edges, width=3, alpha=0.5,edge_color='b')\n",
        "labels = {}\n",
        "labels[1] = r'1 NF'\n",
        "labels[2] = r'2 F'\n",
        "labels[3] = r'3 NF'\n",
        "labels[4] = r'4 NF'\n",
        "labels[5] = r'5 F'\n",
        "labels[6] = r'6 F'\n",
        "labels[7] = r'7 F'\n",
        "labels[8] = r'8 NF'\n",
        "labels[9] = r'9 NF'\n",
        "\n",
        "nx.draw_networkx_labels(G, pos, labels, font_size=16)"
      ],
      "metadata": {
        "colab": {
          "base_uri": "https://localhost:8080/",
          "height": 404
        },
        "id": "WYbKidoqi73r",
        "outputId": "154993a3-56ee-4a9c-8023-110695b57f7e"
      },
      "execution_count": 7,
      "outputs": [
        {
          "output_type": "execute_result",
          "data": {
            "text/plain": [
              "{1: Text(-0.5938614353723474, -0.21625956670454108, '1 NF'),\n",
              " 2: Text(0.47880341242214053, -0.14759760837182542, '2 F'),\n",
              " 3: Text(0.16825716156153855, -0.24946259073294355, '3 NF'),\n",
              " 4: Text(-0.40643386627772665, 0.9062119974905467, '4 NF'),\n",
              " 5: Text(-0.2655656447882016, 0.5043329960164686, '5 F'),\n",
              " 6: Text(-1.0, -0.37611049339776903, '6 F'),\n",
              " 7: Text(-0.08761002357747537, 0.00144844447770195, '7 F'),\n",
              " 8: Text(0.8135556176257094, -0.4552951364423236, '8 NF'),\n",
              " 9: Text(0.8928547784063626, 0.03273195766468566, '9 NF')}"
            ]
          },
          "metadata": {},
          "execution_count": 7
        },
        {
          "output_type": "display_data",
          "data": {
            "text/plain": [
              "<Figure size 432x288 with 1 Axes>"
            ],
            "image/png": "[encoded data removed]"
          },
          "metadata": {}
        }
      ]
    }
  ]
}